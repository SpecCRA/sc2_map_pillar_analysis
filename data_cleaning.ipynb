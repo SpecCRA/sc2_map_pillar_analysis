{
 "cells": [
  {
   "cell_type": "code",
   "execution_count": 113,
   "metadata": {},
   "outputs": [],
   "source": [
    "import pandas as pd\n",
    "import numpy as np"
   ]
  },
  {
   "cell_type": "code",
   "execution_count": 114,
   "metadata": {},
   "outputs": [
    {
     "output_type": "execute_result",
     "data": {
      "text/plain": [
       "    Map Name Matchup Replay Version  Games  Wins  Losses  Team 1 %  Team 2 %\n",
       "0  16-Bit LE     PvT    4.4.1.66668   3716  1930    1763    0.5226    0.4774\n",
       "1  16-Bit LE     PvT    4.3.0.64469    434   216     215    0.5012    0.4988\n",
       "2  16-Bit LE     PvT    4.4.0.65895   4508  2255    2223    0.5036    0.4964\n",
       "3  16-Bit LE     PvT    4.5.0.67188   1194   609     575    0.5144    0.4856\n",
       "4  16-Bit LE     PvT    4.3.1.65094   2724  1334    1384    0.4908    0.5092"
      ],
      "text/html": "<div>\n<style scoped>\n    .dataframe tbody tr th:only-of-type {\n        vertical-align: middle;\n    }\n\n    .dataframe tbody tr th {\n        vertical-align: top;\n    }\n\n    .dataframe thead th {\n        text-align: right;\n    }\n</style>\n<table border=\"1\" class=\"dataframe\">\n  <thead>\n    <tr style=\"text-align: right;\">\n      <th></th>\n      <th>Map Name</th>\n      <th>Matchup</th>\n      <th>Replay Version</th>\n      <th>Games</th>\n      <th>Wins</th>\n      <th>Losses</th>\n      <th>Team 1 %</th>\n      <th>Team 2 %</th>\n    </tr>\n  </thead>\n  <tbody>\n    <tr>\n      <td>0</td>\n      <td>16-Bit LE</td>\n      <td>PvT</td>\n      <td>4.4.1.66668</td>\n      <td>3716</td>\n      <td>1930</td>\n      <td>1763</td>\n      <td>0.5226</td>\n      <td>0.4774</td>\n    </tr>\n    <tr>\n      <td>1</td>\n      <td>16-Bit LE</td>\n      <td>PvT</td>\n      <td>4.3.0.64469</td>\n      <td>434</td>\n      <td>216</td>\n      <td>215</td>\n      <td>0.5012</td>\n      <td>0.4988</td>\n    </tr>\n    <tr>\n      <td>2</td>\n      <td>16-Bit LE</td>\n      <td>PvT</td>\n      <td>4.4.0.65895</td>\n      <td>4508</td>\n      <td>2255</td>\n      <td>2223</td>\n      <td>0.5036</td>\n      <td>0.4964</td>\n    </tr>\n    <tr>\n      <td>3</td>\n      <td>16-Bit LE</td>\n      <td>PvT</td>\n      <td>4.5.0.67188</td>\n      <td>1194</td>\n      <td>609</td>\n      <td>575</td>\n      <td>0.5144</td>\n      <td>0.4856</td>\n    </tr>\n    <tr>\n      <td>4</td>\n      <td>16-Bit LE</td>\n      <td>PvT</td>\n      <td>4.3.1.65094</td>\n      <td>2724</td>\n      <td>1334</td>\n      <td>1384</td>\n      <td>0.4908</td>\n      <td>0.5092</td>\n    </tr>\n  </tbody>\n</table>\n</div>"
     },
     "metadata": {},
     "execution_count": 114
    }
   ],
   "source": [
    "df = pd.read_excel('data\\\\raw_maps_data.xlsx')\n",
    "df.head()"
   ]
  },
  {
   "cell_type": "code",
   "execution_count": 115,
   "metadata": {},
   "outputs": [
    {
     "output_type": "execute_result",
     "data": {
      "text/plain": [
       "Map Name           object\n",
       "Matchup            object\n",
       "Replay Version     object\n",
       "Games               int64\n",
       "Wins                int64\n",
       "Losses              int64\n",
       "Team 1 %          float64\n",
       "Team 2 %          float64\n",
       "dtype: object"
      ]
     },
     "metadata": {},
     "execution_count": 115
    }
   ],
   "source": [
    "df.dtypes"
   ]
  },
  {
   "cell_type": "code",
   "execution_count": 116,
   "metadata": {},
   "outputs": [
    {
     "output_type": "execute_result",
     "data": {
      "text/plain": [
       "              Games          Wins        Losses     Team 1 %     Team 2 %\n",
       "count   1559.000000   1559.000000   1559.000000  1559.000000  1559.000000\n",
       "mean    3377.927518   1707.390635   1658.802437     0.504538     0.495462\n",
       "std     4301.848935   2198.549579   2100.886429     0.095456     0.095456\n",
       "min        1.000000      0.000000      0.000000     0.000000     0.000000\n",
       "25%     1124.500000    557.500000    543.500000     0.483600     0.473250\n",
       "50%     2435.000000   1213.000000   1197.000000     0.503600     0.496400\n",
       "75%     4241.000000   2127.500000   2074.000000     0.526750     0.516400\n",
       "max    40612.000000  20609.000000  20204.000000     1.000000     1.000000"
      ],
      "text/html": "<div>\n<style scoped>\n    .dataframe tbody tr th:only-of-type {\n        vertical-align: middle;\n    }\n\n    .dataframe tbody tr th {\n        vertical-align: top;\n    }\n\n    .dataframe thead th {\n        text-align: right;\n    }\n</style>\n<table border=\"1\" class=\"dataframe\">\n  <thead>\n    <tr style=\"text-align: right;\">\n      <th></th>\n      <th>Games</th>\n      <th>Wins</th>\n      <th>Losses</th>\n      <th>Team 1 %</th>\n      <th>Team 2 %</th>\n    </tr>\n  </thead>\n  <tbody>\n    <tr>\n      <td>count</td>\n      <td>1559.000000</td>\n      <td>1559.000000</td>\n      <td>1559.000000</td>\n      <td>1559.000000</td>\n      <td>1559.000000</td>\n    </tr>\n    <tr>\n      <td>mean</td>\n      <td>3377.927518</td>\n      <td>1707.390635</td>\n      <td>1658.802437</td>\n      <td>0.504538</td>\n      <td>0.495462</td>\n    </tr>\n    <tr>\n      <td>std</td>\n      <td>4301.848935</td>\n      <td>2198.549579</td>\n      <td>2100.886429</td>\n      <td>0.095456</td>\n      <td>0.095456</td>\n    </tr>\n    <tr>\n      <td>min</td>\n      <td>1.000000</td>\n      <td>0.000000</td>\n      <td>0.000000</td>\n      <td>0.000000</td>\n      <td>0.000000</td>\n    </tr>\n    <tr>\n      <td>25%</td>\n      <td>1124.500000</td>\n      <td>557.500000</td>\n      <td>543.500000</td>\n      <td>0.483600</td>\n      <td>0.473250</td>\n    </tr>\n    <tr>\n      <td>50%</td>\n      <td>2435.000000</td>\n      <td>1213.000000</td>\n      <td>1197.000000</td>\n      <td>0.503600</td>\n      <td>0.496400</td>\n    </tr>\n    <tr>\n      <td>75%</td>\n      <td>4241.000000</td>\n      <td>2127.500000</td>\n      <td>2074.000000</td>\n      <td>0.526750</td>\n      <td>0.516400</td>\n    </tr>\n    <tr>\n      <td>max</td>\n      <td>40612.000000</td>\n      <td>20609.000000</td>\n      <td>20204.000000</td>\n      <td>1.000000</td>\n      <td>1.000000</td>\n    </tr>\n  </tbody>\n</table>\n</div>"
     },
     "metadata": {},
     "execution_count": 116
    }
   ],
   "source": [
    "df.describe()"
   ]
  },
  {
   "cell_type": "code",
   "execution_count": 117,
   "metadata": {},
   "outputs": [
    {
     "output_type": "execute_result",
     "data": {
      "text/plain": [
       "'4.3.1.65094'"
      ]
     },
     "metadata": {},
     "execution_count": 117
    }
   ],
   "source": [
    "df['Replay Version'].iloc[4]"
   ]
  },
  {
   "cell_type": "markdown",
   "metadata": {},
   "source": [
    "# List of things to do\n",
    "\n",
    "* Create a list of all the major patches\n",
    "\n",
    "1. Clean up replay versions to match major patches\n",
    "2. Group by replay versions\n",
    "3. Remove win and loss percentages\n",
    "4. Append pillar data\n",
    "5. Begin data analysis"
   ]
  },
  {
   "cell_type": "code",
   "execution_count": 118,
   "metadata": {},
   "outputs": [],
   "source": [
    "# List of major balance updates via Team Liquid\n",
    "# https://liquipedia.net/starcraft2/Patches\n",
    "patches_dict = {\n",
    "    '3.8': '12-8-2016',\n",
    "    '3.9.1': '12-20-2016',\n",
    "    '3.11': '3-7-2017',\n",
    "    '3.12': '4-19-2017',\n",
    "    '4.0.2': '11-28-2017', \n",
    "    '4.1.1': '12-18-2017',\n",
    "    '4.1.4': '1-29-2018',\n",
    "    '4.2.1': '3-19-2018',\n",
    "    '4.3': '5-15-2018',\n",
    "    '4.8.3': '3-25-2019',\n",
    "    '4.10.1': '8-21-2019',\n",
    "    '4.11.4': '3-10-2020',\n",
    "    '5.0.2': '8-20-2020'\n",
    "}"
   ]
  },
  {
   "cell_type": "code",
   "execution_count": 119,
   "metadata": {},
   "outputs": [],
   "source": [
    "# Create function to match replay version to major patch version\n",
    "\n",
    "def assign_patch(version):\n",
    "    \"\"\"\n",
    "    This function takes the replay version and assigns the according balance patch from the patch list.\n",
    "    Link: https://liquipedia.net/starcraft2/Patches\n",
    "    \"\"\"\n",
    "    ver = version.split('.')\n",
    "    \n",
    "    if ver[0] == '3':\n",
    "        if int(ver[1]) < 11:\n",
    "            return '3.8'\n",
    "        elif int(ver[1]) == 11:\n",
    "            return '3.11'\n",
    "        else:\n",
    "            return '3.12'\n",
    "    elif ver[0] == '4':\n",
    "        if ver[1] == '0':\n",
    "            return '4.0.2'\n",
    "        elif ver[1] == '1':\n",
    "            if ver[2] == '1':\n",
    "                return '4.1.1'\n",
    "            elif int(ver[2]) < 4:\n",
    "                return '4.1.1'\n",
    "            elif int(ver[2][0]) <= 9:\n",
    "                return '4.1.4'\n",
    "        elif int(ver[1]) < 3:\n",
    "            return '4.2.1'\n",
    "        elif int(ver[1]) < 8:\n",
    "            return '4.3'\n",
    "        elif ver[1] == '8':\n",
    "            if int(ver[2]) < 3:\n",
    "                return '4.3'\n",
    "            else:\n",
    "                return '4.8.3'\n",
    "        elif int(ver[1]) < 10:\n",
    "            return '4.8.3'\n",
    "        elif ver[1] == '10':\n",
    "            if ver[2] == '0':\n",
    "                return '4.8.3'\n",
    "            else:\n",
    "                return '4.10.1'\n",
    "        elif ver[1] == '11':\n",
    "            if int(ver[2]) < 4:\n",
    "                return '4.10.1'\n",
    "            else:\n",
    "                return '4.11.4'\n",
    "        elif int(ver[2]) < 13:\n",
    "            return '4.11.4'\n",
    "    elif ver[0] == '5':\n",
    "        if int(ver[2]) < 2:\n",
    "            return '4.11.4'\n",
    "        elif int(ver[2]) >= 2:\n",
    "            return '5.0.2'\n",
    "    \n",
    "    else:\n",
    "        print('something broke')"
   ]
  },
  {
   "cell_type": "code",
   "execution_count": 120,
   "metadata": {},
   "outputs": [],
   "source": [
    "def assign_date(patch):\n",
    "    return patches_dict[patch]"
   ]
  },
  {
   "cell_type": "code",
   "execution_count": 121,
   "metadata": {},
   "outputs": [],
   "source": [
    "df['patch'] = df['Replay Version'].apply(assign_patch)"
   ]
  },
  {
   "cell_type": "code",
   "execution_count": 122,
   "metadata": {},
   "outputs": [],
   "source": [
    "df['patch_date'] = df.patch.apply(assign_date)"
   ]
  },
  {
   "cell_type": "code",
   "execution_count": 123,
   "metadata": {},
   "outputs": [
    {
     "output_type": "execute_result",
     "data": {
      "text/plain": [
       "    Map Name Matchup Replay Version  Games  Wins  Losses  Team 1 %  Team 2 %  \\\n",
       "0  16-Bit LE     PvT    4.4.1.66668   3716  1930    1763    0.5226    0.4774   \n",
       "1  16-Bit LE     PvT    4.3.0.64469    434   216     215    0.5012    0.4988   \n",
       "2  16-Bit LE     PvT    4.4.0.65895   4508  2255    2223    0.5036    0.4964   \n",
       "3  16-Bit LE     PvT    4.5.0.67188   1194   609     575    0.5144    0.4856   \n",
       "4  16-Bit LE     PvT    4.3.1.65094   2724  1334    1384    0.4908    0.5092   \n",
       "\n",
       "  patch patch_date  \n",
       "0   4.3  5-15-2018  \n",
       "1   4.3  5-15-2018  \n",
       "2   4.3  5-15-2018  \n",
       "3   4.3  5-15-2018  \n",
       "4   4.3  5-15-2018  "
      ],
      "text/html": "<div>\n<style scoped>\n    .dataframe tbody tr th:only-of-type {\n        vertical-align: middle;\n    }\n\n    .dataframe tbody tr th {\n        vertical-align: top;\n    }\n\n    .dataframe thead th {\n        text-align: right;\n    }\n</style>\n<table border=\"1\" class=\"dataframe\">\n  <thead>\n    <tr style=\"text-align: right;\">\n      <th></th>\n      <th>Map Name</th>\n      <th>Matchup</th>\n      <th>Replay Version</th>\n      <th>Games</th>\n      <th>Wins</th>\n      <th>Losses</th>\n      <th>Team 1 %</th>\n      <th>Team 2 %</th>\n      <th>patch</th>\n      <th>patch_date</th>\n    </tr>\n  </thead>\n  <tbody>\n    <tr>\n      <td>0</td>\n      <td>16-Bit LE</td>\n      <td>PvT</td>\n      <td>4.4.1.66668</td>\n      <td>3716</td>\n      <td>1930</td>\n      <td>1763</td>\n      <td>0.5226</td>\n      <td>0.4774</td>\n      <td>4.3</td>\n      <td>5-15-2018</td>\n    </tr>\n    <tr>\n      <td>1</td>\n      <td>16-Bit LE</td>\n      <td>PvT</td>\n      <td>4.3.0.64469</td>\n      <td>434</td>\n      <td>216</td>\n      <td>215</td>\n      <td>0.5012</td>\n      <td>0.4988</td>\n      <td>4.3</td>\n      <td>5-15-2018</td>\n    </tr>\n    <tr>\n      <td>2</td>\n      <td>16-Bit LE</td>\n      <td>PvT</td>\n      <td>4.4.0.65895</td>\n      <td>4508</td>\n      <td>2255</td>\n      <td>2223</td>\n      <td>0.5036</td>\n      <td>0.4964</td>\n      <td>4.3</td>\n      <td>5-15-2018</td>\n    </tr>\n    <tr>\n      <td>3</td>\n      <td>16-Bit LE</td>\n      <td>PvT</td>\n      <td>4.5.0.67188</td>\n      <td>1194</td>\n      <td>609</td>\n      <td>575</td>\n      <td>0.5144</td>\n      <td>0.4856</td>\n      <td>4.3</td>\n      <td>5-15-2018</td>\n    </tr>\n    <tr>\n      <td>4</td>\n      <td>16-Bit LE</td>\n      <td>PvT</td>\n      <td>4.3.1.65094</td>\n      <td>2724</td>\n      <td>1334</td>\n      <td>1384</td>\n      <td>0.4908</td>\n      <td>0.5092</td>\n      <td>4.3</td>\n      <td>5-15-2018</td>\n    </tr>\n  </tbody>\n</table>\n</div>"
     },
     "metadata": {},
     "execution_count": 123
    }
   ],
   "source": [
    "df.head()"
   ]
  },
  {
   "cell_type": "code",
   "execution_count": 124,
   "metadata": {},
   "outputs": [
    {
     "output_type": "execute_result",
     "data": {
      "text/plain": [
       "    Map Name Matchup  Wins  Losses patch patch_date\n",
       "0  16-Bit LE     PvT  1930    1763   4.3  5-15-2018\n",
       "1  16-Bit LE     PvT   216     215   4.3  5-15-2018\n",
       "2  16-Bit LE     PvT  2255    2223   4.3  5-15-2018\n",
       "3  16-Bit LE     PvT   609     575   4.3  5-15-2018\n",
       "4  16-Bit LE     PvT  1334    1384   4.3  5-15-2018\n",
       "5  16-Bit LE     PvT     1       1   4.3  5-15-2018\n",
       "6  16-Bit LE     PvT  2026    2013   4.3  5-15-2018\n",
       "7  16-Bit LE     PvZ  1660    1576   4.3  5-15-2018\n",
       "8  16-Bit LE     PvZ  1863    1804   4.3  5-15-2018\n",
       "9  16-Bit LE     PvZ  1798    1663   4.3  5-15-2018"
      ],
      "text/html": "<div>\n<style scoped>\n    .dataframe tbody tr th:only-of-type {\n        vertical-align: middle;\n    }\n\n    .dataframe tbody tr th {\n        vertical-align: top;\n    }\n\n    .dataframe thead th {\n        text-align: right;\n    }\n</style>\n<table border=\"1\" class=\"dataframe\">\n  <thead>\n    <tr style=\"text-align: right;\">\n      <th></th>\n      <th>Map Name</th>\n      <th>Matchup</th>\n      <th>Wins</th>\n      <th>Losses</th>\n      <th>patch</th>\n      <th>patch_date</th>\n    </tr>\n  </thead>\n  <tbody>\n    <tr>\n      <td>0</td>\n      <td>16-Bit LE</td>\n      <td>PvT</td>\n      <td>1930</td>\n      <td>1763</td>\n      <td>4.3</td>\n      <td>5-15-2018</td>\n    </tr>\n    <tr>\n      <td>1</td>\n      <td>16-Bit LE</td>\n      <td>PvT</td>\n      <td>216</td>\n      <td>215</td>\n      <td>4.3</td>\n      <td>5-15-2018</td>\n    </tr>\n    <tr>\n      <td>2</td>\n      <td>16-Bit LE</td>\n      <td>PvT</td>\n      <td>2255</td>\n      <td>2223</td>\n      <td>4.3</td>\n      <td>5-15-2018</td>\n    </tr>\n    <tr>\n      <td>3</td>\n      <td>16-Bit LE</td>\n      <td>PvT</td>\n      <td>609</td>\n      <td>575</td>\n      <td>4.3</td>\n      <td>5-15-2018</td>\n    </tr>\n    <tr>\n      <td>4</td>\n      <td>16-Bit LE</td>\n      <td>PvT</td>\n      <td>1334</td>\n      <td>1384</td>\n      <td>4.3</td>\n      <td>5-15-2018</td>\n    </tr>\n    <tr>\n      <td>5</td>\n      <td>16-Bit LE</td>\n      <td>PvT</td>\n      <td>1</td>\n      <td>1</td>\n      <td>4.3</td>\n      <td>5-15-2018</td>\n    </tr>\n    <tr>\n      <td>6</td>\n      <td>16-Bit LE</td>\n      <td>PvT</td>\n      <td>2026</td>\n      <td>2013</td>\n      <td>4.3</td>\n      <td>5-15-2018</td>\n    </tr>\n    <tr>\n      <td>7</td>\n      <td>16-Bit LE</td>\n      <td>PvZ</td>\n      <td>1660</td>\n      <td>1576</td>\n      <td>4.3</td>\n      <td>5-15-2018</td>\n    </tr>\n    <tr>\n      <td>8</td>\n      <td>16-Bit LE</td>\n      <td>PvZ</td>\n      <td>1863</td>\n      <td>1804</td>\n      <td>4.3</td>\n      <td>5-15-2018</td>\n    </tr>\n    <tr>\n      <td>9</td>\n      <td>16-Bit LE</td>\n      <td>PvZ</td>\n      <td>1798</td>\n      <td>1663</td>\n      <td>4.3</td>\n      <td>5-15-2018</td>\n    </tr>\n  </tbody>\n</table>\n</div>"
     },
     "metadata": {},
     "execution_count": 124
    }
   ],
   "source": [
    "df = df[['Map Name', 'Matchup', 'Wins', 'Losses', 'patch', 'patch_date']].copy()\n",
    "df.head(n=10)"
   ]
  },
  {
   "cell_type": "code",
   "execution_count": 125,
   "metadata": {},
   "outputs": [
    {
     "output_type": "execute_result",
     "data": {
      "text/plain": [
       "       Map Name Matchup   Wins  Losses   patch patch_date\n",
       "0     16-Bit LE     PvT   1930    1763     4.3  5-15-2018\n",
       "1     16-Bit LE     PvT    216     215     4.3  5-15-2018\n",
       "2     16-Bit LE     PvT   2255    2223     4.3  5-15-2018\n",
       "3     16-Bit LE     PvT    609     575     4.3  5-15-2018\n",
       "4     16-Bit LE     PvT   1334    1384     4.3  5-15-2018\n",
       "...         ...     ...    ...     ...     ...        ...\n",
       "1554     Zen LE     TvZ     86      79  4.10.1  8-21-2019\n",
       "1555     Zen LE     TvZ   1047    1097  4.10.1  8-21-2019\n",
       "1556     Zen LE     TvZ    714     747  4.10.1  8-21-2019\n",
       "1557     Zen LE     TvZ  11706   12485  4.11.4  3-10-2020\n",
       "1558     Zen LE     TvZ   4829    5073  4.10.1  8-21-2019\n",
       "\n",
       "[1559 rows x 6 columns]"
      ],
      "text/html": "<div>\n<style scoped>\n    .dataframe tbody tr th:only-of-type {\n        vertical-align: middle;\n    }\n\n    .dataframe tbody tr th {\n        vertical-align: top;\n    }\n\n    .dataframe thead th {\n        text-align: right;\n    }\n</style>\n<table border=\"1\" class=\"dataframe\">\n  <thead>\n    <tr style=\"text-align: right;\">\n      <th></th>\n      <th>Map Name</th>\n      <th>Matchup</th>\n      <th>Wins</th>\n      <th>Losses</th>\n      <th>patch</th>\n      <th>patch_date</th>\n    </tr>\n  </thead>\n  <tbody>\n    <tr>\n      <td>0</td>\n      <td>16-Bit LE</td>\n      <td>PvT</td>\n      <td>1930</td>\n      <td>1763</td>\n      <td>4.3</td>\n      <td>5-15-2018</td>\n    </tr>\n    <tr>\n      <td>1</td>\n      <td>16-Bit LE</td>\n      <td>PvT</td>\n      <td>216</td>\n      <td>215</td>\n      <td>4.3</td>\n      <td>5-15-2018</td>\n    </tr>\n    <tr>\n      <td>2</td>\n      <td>16-Bit LE</td>\n      <td>PvT</td>\n      <td>2255</td>\n      <td>2223</td>\n      <td>4.3</td>\n      <td>5-15-2018</td>\n    </tr>\n    <tr>\n      <td>3</td>\n      <td>16-Bit LE</td>\n      <td>PvT</td>\n      <td>609</td>\n      <td>575</td>\n      <td>4.3</td>\n      <td>5-15-2018</td>\n    </tr>\n    <tr>\n      <td>4</td>\n      <td>16-Bit LE</td>\n      <td>PvT</td>\n      <td>1334</td>\n      <td>1384</td>\n      <td>4.3</td>\n      <td>5-15-2018</td>\n    </tr>\n    <tr>\n      <td>...</td>\n      <td>...</td>\n      <td>...</td>\n      <td>...</td>\n      <td>...</td>\n      <td>...</td>\n      <td>...</td>\n    </tr>\n    <tr>\n      <td>1554</td>\n      <td>Zen LE</td>\n      <td>TvZ</td>\n      <td>86</td>\n      <td>79</td>\n      <td>4.10.1</td>\n      <td>8-21-2019</td>\n    </tr>\n    <tr>\n      <td>1555</td>\n      <td>Zen LE</td>\n      <td>TvZ</td>\n      <td>1047</td>\n      <td>1097</td>\n      <td>4.10.1</td>\n      <td>8-21-2019</td>\n    </tr>\n    <tr>\n      <td>1556</td>\n      <td>Zen LE</td>\n      <td>TvZ</td>\n      <td>714</td>\n      <td>747</td>\n      <td>4.10.1</td>\n      <td>8-21-2019</td>\n    </tr>\n    <tr>\n      <td>1557</td>\n      <td>Zen LE</td>\n      <td>TvZ</td>\n      <td>11706</td>\n      <td>12485</td>\n      <td>4.11.4</td>\n      <td>3-10-2020</td>\n    </tr>\n    <tr>\n      <td>1558</td>\n      <td>Zen LE</td>\n      <td>TvZ</td>\n      <td>4829</td>\n      <td>5073</td>\n      <td>4.10.1</td>\n      <td>8-21-2019</td>\n    </tr>\n  </tbody>\n</table>\n<p>1559 rows × 6 columns</p>\n</div>"
     },
     "metadata": {},
     "execution_count": 125
    }
   ],
   "source": [
    "df"
   ]
  },
  {
   "cell_type": "code",
   "execution_count": 126,
   "metadata": {},
   "outputs": [
    {
     "output_type": "execute_result",
     "data": {
      "text/plain": [
       "         Map Name Matchup  patch patch_date  Wins  Losses\n",
       "0       16-Bit LE     PvT    4.3  5-15-2018  8371    8174\n",
       "1       16-Bit LE     PvZ    4.3  5-15-2018  7538    7069\n",
       "2       16-Bit LE     TvZ    4.3  5-15-2018  9424    8012\n",
       "3  Abiogenesis LE     PvT  4.1.4  1-29-2018  2523    2530\n",
       "4  Abiogenesis LE     PvT  4.2.1  3-19-2018  4363    4140\n",
       "5  Abiogenesis LE     PvT    4.3  5-15-2018  1289    1159\n",
       "6  Abiogenesis LE     PvZ  4.1.4  1-29-2018  2339    2997\n",
       "7  Abiogenesis LE     PvZ  4.2.1  3-19-2018  4147    4877\n",
       "8  Abiogenesis LE     PvZ    4.3  5-15-2018  1105    1382\n",
       "9  Abiogenesis LE     TvZ  4.1.4  1-29-2018  3097    3084"
      ],
      "text/html": "<div>\n<style scoped>\n    .dataframe tbody tr th:only-of-type {\n        vertical-align: middle;\n    }\n\n    .dataframe tbody tr th {\n        vertical-align: top;\n    }\n\n    .dataframe thead th {\n        text-align: right;\n    }\n</style>\n<table border=\"1\" class=\"dataframe\">\n  <thead>\n    <tr style=\"text-align: right;\">\n      <th></th>\n      <th>Map Name</th>\n      <th>Matchup</th>\n      <th>patch</th>\n      <th>patch_date</th>\n      <th>Wins</th>\n      <th>Losses</th>\n    </tr>\n  </thead>\n  <tbody>\n    <tr>\n      <td>0</td>\n      <td>16-Bit LE</td>\n      <td>PvT</td>\n      <td>4.3</td>\n      <td>5-15-2018</td>\n      <td>8371</td>\n      <td>8174</td>\n    </tr>\n    <tr>\n      <td>1</td>\n      <td>16-Bit LE</td>\n      <td>PvZ</td>\n      <td>4.3</td>\n      <td>5-15-2018</td>\n      <td>7538</td>\n      <td>7069</td>\n    </tr>\n    <tr>\n      <td>2</td>\n      <td>16-Bit LE</td>\n      <td>TvZ</td>\n      <td>4.3</td>\n      <td>5-15-2018</td>\n      <td>9424</td>\n      <td>8012</td>\n    </tr>\n    <tr>\n      <td>3</td>\n      <td>Abiogenesis LE</td>\n      <td>PvT</td>\n      <td>4.1.4</td>\n      <td>1-29-2018</td>\n      <td>2523</td>\n      <td>2530</td>\n    </tr>\n    <tr>\n      <td>4</td>\n      <td>Abiogenesis LE</td>\n      <td>PvT</td>\n      <td>4.2.1</td>\n      <td>3-19-2018</td>\n      <td>4363</td>\n      <td>4140</td>\n    </tr>\n    <tr>\n      <td>5</td>\n      <td>Abiogenesis LE</td>\n      <td>PvT</td>\n      <td>4.3</td>\n      <td>5-15-2018</td>\n      <td>1289</td>\n      <td>1159</td>\n    </tr>\n    <tr>\n      <td>6</td>\n      <td>Abiogenesis LE</td>\n      <td>PvZ</td>\n      <td>4.1.4</td>\n      <td>1-29-2018</td>\n      <td>2339</td>\n      <td>2997</td>\n    </tr>\n    <tr>\n      <td>7</td>\n      <td>Abiogenesis LE</td>\n      <td>PvZ</td>\n      <td>4.2.1</td>\n      <td>3-19-2018</td>\n      <td>4147</td>\n      <td>4877</td>\n    </tr>\n    <tr>\n      <td>8</td>\n      <td>Abiogenesis LE</td>\n      <td>PvZ</td>\n      <td>4.3</td>\n      <td>5-15-2018</td>\n      <td>1105</td>\n      <td>1382</td>\n    </tr>\n    <tr>\n      <td>9</td>\n      <td>Abiogenesis LE</td>\n      <td>TvZ</td>\n      <td>4.1.4</td>\n      <td>1-29-2018</td>\n      <td>3097</td>\n      <td>3084</td>\n    </tr>\n  </tbody>\n</table>\n</div>"
     },
     "metadata": {},
     "execution_count": 126
    }
   ],
   "source": [
    "df = df.groupby(['Map Name', 'Matchup', 'patch', 'patch_date']).sum().reset_index() # group values by patch\n",
    "df.head(n=10)"
   ]
  },
  {
   "cell_type": "code",
   "execution_count": 127,
   "metadata": {},
   "outputs": [],
   "source": [
    "df['Games'] = df.Wins + df.Losses\n",
    "df['win_perc'] = round((df.Wins / df.Games), 4) # assign rounded win percentage\n",
    "df['loss_perc'] = round((df.Losses / df.Games), 4) # assign rounded loss percentage"
   ]
  },
  {
   "cell_type": "code",
   "execution_count": 128,
   "metadata": {},
   "outputs": [
    {
     "output_type": "execute_result",
     "data": {
      "text/plain": [
       "         Map Name Matchup  patch patch_date  Wins  Losses  Games  win_perc  \\\n",
       "0       16-Bit LE     PvT    4.3  5-15-2018  8371    8174  16545    0.5060   \n",
       "1       16-Bit LE     PvZ    4.3  5-15-2018  7538    7069  14607    0.5161   \n",
       "2       16-Bit LE     TvZ    4.3  5-15-2018  9424    8012  17436    0.5405   \n",
       "3  Abiogenesis LE     PvT  4.1.4  1-29-2018  2523    2530   5053    0.4993   \n",
       "4  Abiogenesis LE     PvT  4.2.1  3-19-2018  4363    4140   8503    0.5131   \n",
       "\n",
       "   loss_perc  \n",
       "0     0.4940  \n",
       "1     0.4839  \n",
       "2     0.4595  \n",
       "3     0.5007  \n",
       "4     0.4869  "
      ],
      "text/html": "<div>\n<style scoped>\n    .dataframe tbody tr th:only-of-type {\n        vertical-align: middle;\n    }\n\n    .dataframe tbody tr th {\n        vertical-align: top;\n    }\n\n    .dataframe thead th {\n        text-align: right;\n    }\n</style>\n<table border=\"1\" class=\"dataframe\">\n  <thead>\n    <tr style=\"text-align: right;\">\n      <th></th>\n      <th>Map Name</th>\n      <th>Matchup</th>\n      <th>patch</th>\n      <th>patch_date</th>\n      <th>Wins</th>\n      <th>Losses</th>\n      <th>Games</th>\n      <th>win_perc</th>\n      <th>loss_perc</th>\n    </tr>\n  </thead>\n  <tbody>\n    <tr>\n      <td>0</td>\n      <td>16-Bit LE</td>\n      <td>PvT</td>\n      <td>4.3</td>\n      <td>5-15-2018</td>\n      <td>8371</td>\n      <td>8174</td>\n      <td>16545</td>\n      <td>0.5060</td>\n      <td>0.4940</td>\n    </tr>\n    <tr>\n      <td>1</td>\n      <td>16-Bit LE</td>\n      <td>PvZ</td>\n      <td>4.3</td>\n      <td>5-15-2018</td>\n      <td>7538</td>\n      <td>7069</td>\n      <td>14607</td>\n      <td>0.5161</td>\n      <td>0.4839</td>\n    </tr>\n    <tr>\n      <td>2</td>\n      <td>16-Bit LE</td>\n      <td>TvZ</td>\n      <td>4.3</td>\n      <td>5-15-2018</td>\n      <td>9424</td>\n      <td>8012</td>\n      <td>17436</td>\n      <td>0.5405</td>\n      <td>0.4595</td>\n    </tr>\n    <tr>\n      <td>3</td>\n      <td>Abiogenesis LE</td>\n      <td>PvT</td>\n      <td>4.1.4</td>\n      <td>1-29-2018</td>\n      <td>2523</td>\n      <td>2530</td>\n      <td>5053</td>\n      <td>0.4993</td>\n      <td>0.5007</td>\n    </tr>\n    <tr>\n      <td>4</td>\n      <td>Abiogenesis LE</td>\n      <td>PvT</td>\n      <td>4.2.1</td>\n      <td>3-19-2018</td>\n      <td>4363</td>\n      <td>4140</td>\n      <td>8503</td>\n      <td>0.5131</td>\n      <td>0.4869</td>\n    </tr>\n  </tbody>\n</table>\n</div>"
     },
     "metadata": {},
     "execution_count": 128
    }
   ],
   "source": [
    "df.head()"
   ]
  },
  {
   "cell_type": "code",
   "execution_count": 129,
   "metadata": {},
   "outputs": [],
   "source": [
    "df = df.sort_values(['patch', 'Map Name']) # sort values by patch and group by map name"
   ]
  },
  {
   "cell_type": "code",
   "execution_count": 130,
   "metadata": {},
   "outputs": [
    {
     "output_type": "execute_result",
     "data": {
      "text/plain": [
       "                      Map Name Matchup patch patch_date  Wins  Losses  Games  \\\n",
       "12             Abyssal Reef LE     PvT  3.11   3-7-2017  1070    1162   2232   \n",
       "18             Abyssal Reef LE     PvZ  3.11   3-7-2017  1260    1340   2600   \n",
       "24             Abyssal Reef LE     TvZ  3.11   3-7-2017  1656    1916   3572   \n",
       "81  Bel'Shir Vestige LE (Void)     PvT  3.11   3-7-2017  1276    1243   2519   \n",
       "84  Bel'Shir Vestige LE (Void)     PvZ  3.11   3-7-2017  1285    1407   2692   \n",
       "\n",
       "    win_perc  loss_perc  \n",
       "12    0.4794     0.5206  \n",
       "18    0.4846     0.5154  \n",
       "24    0.4636     0.5364  \n",
       "81    0.5066     0.4934  \n",
       "84    0.4773     0.5227  "
      ],
      "text/html": "<div>\n<style scoped>\n    .dataframe tbody tr th:only-of-type {\n        vertical-align: middle;\n    }\n\n    .dataframe tbody tr th {\n        vertical-align: top;\n    }\n\n    .dataframe thead th {\n        text-align: right;\n    }\n</style>\n<table border=\"1\" class=\"dataframe\">\n  <thead>\n    <tr style=\"text-align: right;\">\n      <th></th>\n      <th>Map Name</th>\n      <th>Matchup</th>\n      <th>patch</th>\n      <th>patch_date</th>\n      <th>Wins</th>\n      <th>Losses</th>\n      <th>Games</th>\n      <th>win_perc</th>\n      <th>loss_perc</th>\n    </tr>\n  </thead>\n  <tbody>\n    <tr>\n      <td>12</td>\n      <td>Abyssal Reef LE</td>\n      <td>PvT</td>\n      <td>3.11</td>\n      <td>3-7-2017</td>\n      <td>1070</td>\n      <td>1162</td>\n      <td>2232</td>\n      <td>0.4794</td>\n      <td>0.5206</td>\n    </tr>\n    <tr>\n      <td>18</td>\n      <td>Abyssal Reef LE</td>\n      <td>PvZ</td>\n      <td>3.11</td>\n      <td>3-7-2017</td>\n      <td>1260</td>\n      <td>1340</td>\n      <td>2600</td>\n      <td>0.4846</td>\n      <td>0.5154</td>\n    </tr>\n    <tr>\n      <td>24</td>\n      <td>Abyssal Reef LE</td>\n      <td>TvZ</td>\n      <td>3.11</td>\n      <td>3-7-2017</td>\n      <td>1656</td>\n      <td>1916</td>\n      <td>3572</td>\n      <td>0.4636</td>\n      <td>0.5364</td>\n    </tr>\n    <tr>\n      <td>81</td>\n      <td>Bel'Shir Vestige LE (Void)</td>\n      <td>PvT</td>\n      <td>3.11</td>\n      <td>3-7-2017</td>\n      <td>1276</td>\n      <td>1243</td>\n      <td>2519</td>\n      <td>0.5066</td>\n      <td>0.4934</td>\n    </tr>\n    <tr>\n      <td>84</td>\n      <td>Bel'Shir Vestige LE (Void)</td>\n      <td>PvZ</td>\n      <td>3.11</td>\n      <td>3-7-2017</td>\n      <td>1285</td>\n      <td>1407</td>\n      <td>2692</td>\n      <td>0.4773</td>\n      <td>0.5227</td>\n    </tr>\n  </tbody>\n</table>\n</div>"
     },
     "metadata": {},
     "execution_count": 130
    }
   ],
   "source": [
    "df.head()"
   ]
  },
  {
   "cell_type": "code",
   "execution_count": 131,
   "metadata": {},
   "outputs": [],
   "source": [
    "df.to_excel('data\\maps_data.xlsx')"
   ]
  }
 ],
 "metadata": {
  "kernelspec": {
   "display_name": "Python 3.7.4 64-bit ('base': conda)",
   "language": "python",
   "name": "python37464bitbaseconda1e0c91686aae43d9a876dfdafaecff22"
  },
  "language_info": {
   "codemirror_mode": {
    "name": "ipython",
    "version": 3
   },
   "file_extension": ".py",
   "mimetype": "text/x-python",
   "name": "python",
   "nbconvert_exporter": "python",
   "pygments_lexer": "ipython3",
   "version": "3.7.4-final"
  }
 },
 "nbformat": 4,
 "nbformat_minor": 4
}